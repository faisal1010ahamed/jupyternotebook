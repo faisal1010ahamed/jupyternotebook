{
 "cells": [
  {
   "cell_type": "code",
   "execution_count": null,
   "id": "8c786d62",
   "metadata": {},
   "outputs": [],
   "source": [
    "details={\"Name\":\"Mupsira\",\"Age\":20,\"Class\":\"MCA\"}"
   ]
  },
  {
   "cell_type": "code",
   "execution_count": null,
   "id": "a2f86025",
   "metadata": {},
   "outputs": [],
   "source": [
    "type(details)"
   ]
  },
  {
   "cell_type": "code",
   "execution_count": null,
   "id": "b9d811af",
   "metadata": {},
   "outputs": [],
   "source": [
    "details['Name']"
   ]
  },
  {
   "cell_type": "code",
   "execution_count": null,
   "id": "82eab639",
   "metadata": {},
   "outputs": [],
   "source": [
    "details['Name']='Priya'"
   ]
  },
  {
   "cell_type": "code",
   "execution_count": null,
   "id": "caf97748",
   "metadata": {},
   "outputs": [],
   "source": [
    "details"
   ]
  },
  {
   "cell_type": "code",
   "execution_count": null,
   "id": "a4f58d82",
   "metadata": {},
   "outputs": [],
   "source": [
    "details['Sec']='B'"
   ]
  },
  {
   "cell_type": "code",
   "execution_count": null,
   "id": "5c0fc4ea",
   "metadata": {},
   "outputs": [],
   "source": [
    "details"
   ]
  },
  {
   "cell_type": "code",
   "execution_count": null,
   "id": "8739ab75",
   "metadata": {},
   "outputs": [],
   "source": [
    "var={1,2,3,'a','b','c'}"
   ]
  },
  {
   "cell_type": "code",
   "execution_count": null,
   "id": "b35dabdf",
   "metadata": {},
   "outputs": [],
   "source": [
    "var"
   ]
  },
  {
   "cell_type": "code",
   "execution_count": null,
   "id": "7af6a505",
   "metadata": {},
   "outputs": [],
   "source": [
    "type(var)"
   ]
  },
  {
   "cell_type": "code",
   "execution_count": null,
   "id": "fa4be137",
   "metadata": {},
   "outputs": [],
   "source": [
    "var.add('d')"
   ]
  },
  {
   "cell_type": "code",
   "execution_count": null,
   "id": "141e6b49",
   "metadata": {},
   "outputs": [],
   "source": [
    "var1={2,3,4,'b','a'}"
   ]
  },
  {
   "cell_type": "code",
   "execution_count": null,
   "id": "1c808681",
   "metadata": {},
   "outputs": [],
   "source": [
    "var1"
   ]
  },
  {
   "cell_type": "code",
   "execution_count": null,
   "id": "668e0d95",
   "metadata": {},
   "outputs": [],
   "source": [
    "var2=frozenset({1,2,3,'b','a','c'})"
   ]
  },
  {
   "cell_type": "code",
   "execution_count": null,
   "id": "e58a5e67",
   "metadata": {},
   "outputs": [],
   "source": [
    "var2"
   ]
  },
  {
   "cell_type": "code",
   "execution_count": null,
   "id": "33b1caa9",
   "metadata": {},
   "outputs": [],
   "source": [
    "var2.add('d')"
   ]
  },
  {
   "cell_type": "code",
   "execution_count": 3,
   "id": "e5d14609",
   "metadata": {},
   "outputs": [
    {
     "name": "stdout",
     "output_type": "stream",
     "text": [
      "enter time23\n",
      "this is evening\n"
     ]
    }
   ],
   "source": [
    "timenow=input('enter time')\n",
    "notif={1:'wake',2:'this is afternoon',3:'this is evening'}\n",
    "if int(timenow)<12:\n",
    " print(notif[1])\n",
    "elif int(timenow)==12:\n",
    " print(notif[2])\n",
    "elif int(timenow)>12:\n",
    " print(notif[3])"
   ]
  },
  {
   "cell_type": "code",
   "execution_count": 8,
   "id": "0d7e826b",
   "metadata": {},
   "outputs": [
    {
     "name": "stdout",
     "output_type": "stream",
     "text": [
      "your total fare for 1km is 2\n",
      "your total fare for 1km is 2\n",
      "your total fare for 3 km is 6\n",
      "your total fare for 4 km is 8\n",
      "your total fare for 5 km is 10\n",
      "your total fare for 6 km is 12\n",
      "your total fare for 7 km is 14\n",
      "your total fare for 8 km is 16\n",
      "your total fare for 9 km is 18\n",
      "your total fare for 10 km is 20\n",
      "your total fare for 11 km is 22\n",
      "your total fare for 12 km is 24\n",
      "your total fare for 13 km is 26\n",
      "your total fare for 14 km is 28\n",
      "your total fare for 15 km is 30\n",
      "your total fare for 16 km is 32\n",
      "your total fare for 17 km is 34\n",
      "your total fare for 18 km is 36\n",
      "your total fare for 19 km is 38\n",
      "your total fare for 20 km is 40\n",
      "your total fare for 21 km is 42\n",
      "your total fare for 22 km is 44\n",
      "your total fare for 23 km is 46\n",
      "your total fare for 24 km is 48\n",
      "your total fare for 25 km is 50\n"
     ]
    }
   ],
   "source": [
    "fare_per_km=2\n",
    "for dist in range(1,26):\n",
    "    if dist > 2:\n",
    "        total_fare=dist*2\n",
    "        print(f\"your total fare for {dist} km is {total_fare}\")\n",
    "        \n",
    "    else:\n",
    "        print(f\"your total fare for 1km is 2\")"
   ]
  },
  {
   "cell_type": "code",
   "execution_count": 2,
   "id": "d0898b9a",
   "metadata": {},
   "outputs": [
    {
     "name": "stdout",
     "output_type": "stream",
     "text": [
      "enter total seat capacity:10\n",
      "your journey is not confirmed\n",
      "only 1 tickets booked\n",
      "your journey is not confirmed\n",
      "only 2 tickets booked\n",
      "your journey is not confirmed\n",
      "only 3 tickets booked\n",
      "your journey is not confirmed\n",
      "only 4 tickets booked\n",
      "your journey is not confirmed\n",
      "only 5 tickets booked\n",
      "50% of the ticket filled the journey confirmed\n"
     ]
    }
   ],
   "source": [
    "TCS=int(input(\"enter total seat capacity:\"))\n",
    "counter=1\n",
    "while counter<=TCS/2:\n",
    "    print(f\"your journey is not confirmed\")\n",
    "    print(f\"only {counter} tickets booked\")\n",
    "    counter+=1\n",
    "print(\"50% of the ticket filled the journey confirmed\")"
   ]
  },
  {
   "cell_type": "code",
   "execution_count": 6,
   "id": "5fb60d35",
   "metadata": {},
   "outputs": [
    {
     "name": "stdout",
     "output_type": "stream",
     "text": [
      "enter total chocolates:5\n",
      "stock alert\n"
     ]
    }
   ],
   "source": [
    "chocolates=int(input(\"enter total chocolates:\"))\n",
    "num=50\n",
    "while num<=10:\n",
    "    print(f\"stock is available\")\n",
    "print(\"stock alert\")"
   ]
  },
  {
   "cell_type": "code",
   "execution_count": 10,
   "id": "121b24e9",
   "metadata": {},
   "outputs": [],
   "source": [
    "def addition(a,b):\n",
    "    c=a+b\n",
    "    print(c)"
   ]
  },
  {
   "cell_type": "code",
   "execution_count": 14,
   "id": "de9600f0",
   "metadata": {},
   "outputs": [
    {
     "name": "stdout",
     "output_type": "stream",
     "text": [
      "52\n"
     ]
    }
   ],
   "source": [
    "addition(22,30)"
   ]
  },
  {
   "cell_type": "code",
   "execution_count": null,
   "id": "b371e295",
   "metadata": {},
   "outputs": [],
   "source": []
  },
  {
   "cell_type": "code",
   "execution_count": null,
   "id": "d55643de",
   "metadata": {},
   "outputs": [],
   "source": []
  },
  {
   "cell_type": "code",
   "execution_count": null,
   "id": "9afc4817",
   "metadata": {},
   "outputs": [],
   "source": []
  },
  {
   "cell_type": "code",
   "execution_count": null,
   "id": "11ead795",
   "metadata": {},
   "outputs": [],
   "source": []
  }
 ],
 "metadata": {
  "kernelspec": {
   "display_name": "Python 3 (ipykernel)",
   "language": "python",
   "name": "python3"
  },
  "language_info": {
   "codemirror_mode": {
    "name": "ipython",
    "version": 3
   },
   "file_extension": ".py",
   "mimetype": "text/x-python",
   "name": "python",
   "nbconvert_exporter": "python",
   "pygments_lexer": "ipython3",
   "version": "3.9.7"
  }
 },
 "nbformat": 4,
 "nbformat_minor": 5
}
